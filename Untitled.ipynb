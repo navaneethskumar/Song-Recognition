{
 "cells": [
  {
   "cell_type": "code",
   "execution_count": 1,
   "id": "f908233d",
   "metadata": {},
   "outputs": [
    {
     "name": "stdout",
     "output_type": "stream",
     "text": [
      "Collecting fastapi\n",
      "  Using cached fastapi-0.115.11-py3-none-any.whl.metadata (27 kB)\n",
      "Collecting uvicorn\n",
      "  Using cached uvicorn-0.34.0-py3-none-any.whl.metadata (6.5 kB)\n",
      "Requirement already satisfied: numpy in /Users/navaneethsureshkumar/anaconda3/lib/python3.11/site-packages (1.24.3)\n",
      "Requirement already satisfied: librosa in /Users/navaneethsureshkumar/anaconda3/lib/python3.11/site-packages (0.10.1)\n",
      "Requirement already satisfied: pydub in /Users/navaneethsureshkumar/anaconda3/lib/python3.11/site-packages (0.25.1)\n",
      "Requirement already satisfied: requests in /Users/navaneethsureshkumar/anaconda3/lib/python3.11/site-packages (2.31.0)\n",
      "Collecting starlette<0.47.0,>=0.40.0 (from fastapi)\n",
      "  Downloading starlette-0.46.1-py3-none-any.whl.metadata (6.2 kB)\n",
      "Requirement already satisfied: pydantic!=1.8,!=1.8.1,!=2.0.0,!=2.0.1,!=2.1.0,<3.0.0,>=1.7.4 in /Users/navaneethsureshkumar/anaconda3/lib/python3.11/site-packages (from fastapi) (2.7.0)\n",
      "Collecting typing-extensions>=4.8.0 (from fastapi)\n",
      "  Downloading typing_extensions-4.12.2-py3-none-any.whl.metadata (3.0 kB)\n",
      "Requirement already satisfied: click>=7.0 in /Users/navaneethsureshkumar/anaconda3/lib/python3.11/site-packages (from uvicorn) (8.0.4)\n",
      "Requirement already satisfied: h11>=0.8 in /Users/navaneethsureshkumar/anaconda3/lib/python3.11/site-packages (from uvicorn) (0.14.0)\n",
      "Requirement already satisfied: audioread>=2.1.9 in /Users/navaneethsureshkumar/anaconda3/lib/python3.11/site-packages (from librosa) (3.0.1)\n",
      "Requirement already satisfied: scipy>=1.2.0 in /Users/navaneethsureshkumar/anaconda3/lib/python3.11/site-packages (from librosa) (1.10.1)\n",
      "Requirement already satisfied: scikit-learn>=0.20.0 in /Users/navaneethsureshkumar/anaconda3/lib/python3.11/site-packages (from librosa) (1.2.2)\n",
      "Requirement already satisfied: joblib>=0.14 in /Users/navaneethsureshkumar/anaconda3/lib/python3.11/site-packages (from librosa) (1.2.0)\n",
      "Requirement already satisfied: decorator>=4.3.0 in /Users/navaneethsureshkumar/anaconda3/lib/python3.11/site-packages (from librosa) (5.1.1)\n",
      "Requirement already satisfied: numba>=0.51.0 in /Users/navaneethsureshkumar/anaconda3/lib/python3.11/site-packages (from librosa) (0.57.0)\n",
      "Requirement already satisfied: soundfile>=0.12.1 in /Users/navaneethsureshkumar/anaconda3/lib/python3.11/site-packages (from librosa) (0.12.1)\n",
      "Requirement already satisfied: pooch>=1.0 in /Users/navaneethsureshkumar/anaconda3/lib/python3.11/site-packages (from librosa) (1.4.0)\n",
      "Requirement already satisfied: soxr>=0.3.2 in /Users/navaneethsureshkumar/anaconda3/lib/python3.11/site-packages (from librosa) (0.3.7)\n",
      "Requirement already satisfied: lazy-loader>=0.1 in /Users/navaneethsureshkumar/anaconda3/lib/python3.11/site-packages (from librosa) (0.2)\n",
      "Requirement already satisfied: msgpack>=1.0 in /Users/navaneethsureshkumar/anaconda3/lib/python3.11/site-packages (from librosa) (1.0.3)\n",
      "Requirement already satisfied: charset-normalizer<4,>=2 in /Users/navaneethsureshkumar/anaconda3/lib/python3.11/site-packages (from requests) (2.0.4)\n",
      "Requirement already satisfied: idna<4,>=2.5 in /Users/navaneethsureshkumar/anaconda3/lib/python3.11/site-packages (from requests) (3.7)\n",
      "Requirement already satisfied: urllib3<3,>=1.21.1 in /Users/navaneethsureshkumar/anaconda3/lib/python3.11/site-packages (from requests) (1.26.16)\n",
      "Requirement already satisfied: certifi>=2017.4.17 in /Users/navaneethsureshkumar/anaconda3/lib/python3.11/site-packages (from requests) (2023.7.22)\n",
      "Requirement already satisfied: llvmlite<0.41,>=0.40.0dev0 in /Users/navaneethsureshkumar/anaconda3/lib/python3.11/site-packages (from numba>=0.51.0->librosa) (0.40.0)\n",
      "Requirement already satisfied: packaging in /Users/navaneethsureshkumar/anaconda3/lib/python3.11/site-packages (from pooch>=1.0->librosa) (23.2)\n",
      "Requirement already satisfied: appdirs in /Users/navaneethsureshkumar/anaconda3/lib/python3.11/site-packages (from pooch>=1.0->librosa) (1.4.4)\n",
      "Requirement already satisfied: annotated-types>=0.4.0 in /Users/navaneethsureshkumar/anaconda3/lib/python3.11/site-packages (from pydantic!=1.8,!=1.8.1,!=2.0.0,!=2.0.1,!=2.1.0,<3.0.0,>=1.7.4->fastapi) (0.6.0)\n",
      "Requirement already satisfied: pydantic-core==2.18.1 in /Users/navaneethsureshkumar/anaconda3/lib/python3.11/site-packages (from pydantic!=1.8,!=1.8.1,!=2.0.0,!=2.0.1,!=2.1.0,<3.0.0,>=1.7.4->fastapi) (2.18.1)\n",
      "Requirement already satisfied: threadpoolctl>=2.0.0 in /Users/navaneethsureshkumar/anaconda3/lib/python3.11/site-packages (from scikit-learn>=0.20.0->librosa) (2.2.0)\n",
      "Requirement already satisfied: cffi>=1.0 in /Users/navaneethsureshkumar/anaconda3/lib/python3.11/site-packages (from soundfile>=0.12.1->librosa) (1.15.1)\n",
      "Collecting anyio<5,>=3.6.2 (from starlette<0.47.0,>=0.40.0->fastapi)\n",
      "  Downloading anyio-4.8.0-py3-none-any.whl.metadata (4.6 kB)\n",
      "Requirement already satisfied: sniffio>=1.1 in /Users/navaneethsureshkumar/anaconda3/lib/python3.11/site-packages (from anyio<5,>=3.6.2->starlette<0.47.0,>=0.40.0->fastapi) (1.2.0)\n",
      "Requirement already satisfied: pycparser in /Users/navaneethsureshkumar/anaconda3/lib/python3.11/site-packages (from cffi>=1.0->soundfile>=0.12.1->librosa) (2.21)\n",
      "Downloading fastapi-0.115.11-py3-none-any.whl (94 kB)\n",
      "Downloading uvicorn-0.34.0-py3-none-any.whl (62 kB)\n",
      "Downloading starlette-0.46.1-py3-none-any.whl (71 kB)\n",
      "Downloading typing_extensions-4.12.2-py3-none-any.whl (37 kB)\n",
      "Downloading anyio-4.8.0-py3-none-any.whl (96 kB)\n",
      "Installing collected packages: uvicorn, typing-extensions, anyio, starlette, fastapi\n",
      "  Attempting uninstall: typing-extensions\n",
      "    Found existing installation: typing_extensions 4.5.0\n",
      "    Uninstalling typing_extensions-4.5.0:\n",
      "      Successfully uninstalled typing_extensions-4.5.0\n",
      "  Attempting uninstall: anyio\n",
      "    Found existing installation: anyio 3.5.0\n",
      "    Uninstalling anyio-3.5.0:\n",
      "      Successfully uninstalled anyio-3.5.0\n",
      "\u001b[31mERROR: pip's dependency resolver does not currently take into account all the packages that are installed. This behaviour is the source of the following dependency conflicts.\n",
      "compiam 0.3.0 requires pathlib~=1.0.1, which is not installed.\n",
      "jupyter-server 1.23.4 requires anyio<4,>=3.1.0, but you have anyio 4.8.0 which is incompatible.\n",
      "tensorflow-macos 2.13.0 requires keras<2.14,>=2.13.1, but you have keras 3.3.3 which is incompatible.\n",
      "tensorflow-macos 2.13.0 requires typing-extensions<4.6.0,>=3.6.6, but you have typing-extensions 4.12.2 which is incompatible.\n",
      "mirdata 0.3.8 requires chardet>=5.0.0, but you have chardet 4.0.0 which is incompatible.\u001b[0m\u001b[31m\n",
      "\u001b[0mSuccessfully installed anyio-4.8.0 fastapi-0.115.11 starlette-0.46.1 typing-extensions-4.6.3 uvicorn-0.34.0\n"
     ]
    }
   ],
   "source": [
    "!pip install fastapi uvicorn numpy librosa pydub requests\n"
   ]
  },
  {
   "cell_type": "code",
   "execution_count": 1,
   "id": "1755eaa0",
   "metadata": {
    "tags": []
   },
   "outputs": [],
   "source": [
    "import sqlite3\n",
    "\n",
    "def create_database():\n",
    "    conn = sqlite3.connect(\"songs.db\")\n",
    "    cursor = conn.cursor()\n",
    "    cursor.execute(\"\"\"\n",
    "        CREATE TABLE IF NOT EXISTS songs (\n",
    "            id INTEGER PRIMARY KEY AUTOINCREMENT,\n",
    "            name TEXT,\n",
    "            artist TEXT,\n",
    "            fingerprint TEXT\n",
    "        )\n",
    "    \"\"\")\n",
    "    conn.commit()\n",
    "    conn.close()\n",
    "\n",
    "create_database()  # Run once to initialize the database\n"
   ]
  },
  {
   "cell_type": "code",
   "execution_count": 2,
   "id": "dc58b700-2d3a-4b43-b2a9-f6733c38aee4",
   "metadata": {
    "tags": []
   },
   "outputs": [],
   "source": [
    "import librosa\n",
    "import numpy as np\n",
    "import hashlib\n",
    "\n",
    "def extract_fingerprint(audio_file):\n",
    "    y, sr = librosa.load(audio_file, sr=None)\n",
    "    spectrogram = np.abs(librosa.stft(y))  # Convert audio to spectrogram\n",
    "    fingerprint = hashlib.sha256(spectrogram.tobytes()).hexdigest()  # Hash it\n",
    "    return fingerprint\n"
   ]
  },
  {
   "cell_type": "code",
   "execution_count": 5,
   "id": "e70a4104-58c9-4b72-98ff-6fa103618bff",
   "metadata": {
    "tags": []
   },
   "outputs": [],
   "source": [
    "from fastapi import FastAPI, UploadFile, File\n",
    "import sqlite3\n",
    "import os\n",
    "from fingerprint import extract_fingerprint\n",
    "from database import create_database\n",
    "\n",
    "app = FastAPI()\n",
    "\n",
    "# Ensure temp folder exists\n",
    "os.makedirs(\"temp\", exist_ok=True)\n",
    "\n",
    "# Store song in database\n",
    "def insert_song(name, artist, fingerprint):\n",
    "    conn = sqlite3.connect(\"songs.db\")\n",
    "    cursor = conn.cursor()\n",
    "    cursor.execute(\"INSERT INTO songs (name, artist, fingerprint) VALUES (?, ?, ?)\", \n",
    "                   (name, artist, fingerprint))\n",
    "    conn.commit()\n",
    "    conn.close()\n",
    "\n",
    "# Check if song exists\n",
    "def match_song(query_fingerprint):\n",
    "    conn = sqlite3.connect(\"songs.db\")\n",
    "    cursor = conn.cursor()\n",
    "    cursor.execute(\"SELECT name, artist FROM songs WHERE fingerprint=?\", (query_fingerprint,))\n",
    "    result = cursor.fetchone()\n",
    "    conn.close()\n",
    "    return result if result else None\n",
    "\n",
    "# API Endpoint: Recognize a Song\n",
    "@app.post(\"/recognize/\")\n",
    "async def recognize_song(file: UploadFile = File(...)):\n",
    "    file_location = f\"temp/{file.filename}\"\n",
    "    with open(file_location, \"wb\") as buffer:\n",
    "        buffer.write(file.file.read())\n",
    "\n",
    "    fingerprint = extract_fingerprint(file_location)\n",
    "    result = match_song(fingerprint)\n",
    "    os.remove(file_location)  # Clean up temp file\n",
    "\n",
    "    if result:\n",
    "        return {\"status\": \"success\", \"song\": {\"name\": result[0], \"artist\": result[1]}}\n",
    "    else:\n",
    "        return {\"status\": \"not found\", \"message\": \"No matching song in the database\"}\n",
    "\n",
    "# API Endpoint: Add a New Song\n",
    "@app.post(\"/add_song/\")\n",
    "async def add_song(name: str, artist: str, file: UploadFile = File(...)):\n",
    "    file_location = f\"temp/{file.filename}\"\n",
    "    with open(file_location, \"wb\") as buffer:\n",
    "        buffer.write(file.file.read())\n",
    "\n",
    "    fingerprint = extract_fingerprint(file_location)\n",
    "    insert_song(name, artist, fingerprint)\n",
    "    os.remove(file_location)  # Clean up temp file\n",
    "\n",
    "    return {\"status\": \"success\", \"message\": f\"Song '{name}' by '{artist}' added to database\"}\n"
   ]
  },
  {
   "cell_type": "code",
   "execution_count": 4,
   "id": "91eb0463-02a5-489c-a00d-c2ce5425f5df",
   "metadata": {
    "tags": []
   },
   "outputs": [
    {
     "name": "stdout",
     "output_type": "stream",
     "text": [
      "Found existing installation: multipart 0.2.4\n",
      "Uninstalling multipart-0.2.4:\n",
      "  Would remove:\n",
      "    /Users/navaneethsureshkumar/anaconda3/lib/python3.11/site-packages/multipart-0.2.4.dist-info/*\n",
      "    /Users/navaneethsureshkumar/anaconda3/lib/python3.11/site-packages/multipart.py\n",
      "Proceed (Y/n)? ^C\n",
      "\u001b[31mERROR: Operation cancelled by user\u001b[0m\u001b[31m\n",
      "\u001b[0m"
     ]
    }
   ],
   "source": []
  }
 ],
 "metadata": {
  "kernelspec": {
   "display_name": "Python 3 (ipykernel)",
   "language": "python",
   "name": "python3"
  },
  "language_info": {
   "codemirror_mode": {
    "name": "ipython",
    "version": 3
   },
   "file_extension": ".py",
   "mimetype": "text/x-python",
   "name": "python",
   "nbconvert_exporter": "python",
   "pygments_lexer": "ipython3",
   "version": "3.11.3"
  }
 },
 "nbformat": 4,
 "nbformat_minor": 5
}
